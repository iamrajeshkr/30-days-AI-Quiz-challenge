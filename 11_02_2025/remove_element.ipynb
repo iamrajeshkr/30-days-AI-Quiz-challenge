{
 "cells": [
  {
   "cell_type": "markdown",
   "metadata": {},
   "source": [
    "# Remove Element\n",
    "\n",
    "## Problem Statement\n",
    "Given an integer array `nums` and an integer `val`, remove all occurrences of `val` in `nums` **in-place**. The order of the elements may be changed. Then return the number of elements in `nums` which are not equal to `val`.\n",
    "\n",
    "Consider the number of elements in `nums` which are not equal to `val` to be `k`. To get accepted, you need to do the following things:\n",
    "\n",
    "1. Change the array `nums` such that the first `k` elements of `nums` contain the elements which are **not equal** to `val`.\n",
    "2. The remaining elements of `nums` are **not important**, as well as the size of `nums`.\n",
    "3. Return `k`.\n",
    "\n",
    "## Custom Judge\n",
    "The judge will test your solution with the following code:\n",
    "\n",
    "```java\n",
    "int[] nums = [...]; // Input array\n",
    "int val = ...; // Value to remove\n",
    "int[] expectedNums = [...]; // The expected answer with correct length.\n",
    "                            // It is sorted with no values equaling val.\n",
    "\n",
    "int k = removeElement(nums, val); // Calls your implementation\n",
    "\n",
    "assert k == expectedNums.length;\n",
    "sort(nums, 0, k); // Sort the first k elements of nums\n",
    "for (int i = 0; i < actualLength; i++) {\n",
    "    assert nums[i] == expectedNums[i];\n",
    "}\n",
    "```\n",
    "If all assertions pass, then your solution will be accepted.\n",
    "\n",
    "## Examples\n",
    "\n",
    "### Example 1:\n",
    "**Input:**\n",
    "```plaintext\n",
    "nums = [3,2,2,3], val = 3\n",
    "```\n",
    "**Output:**\n",
    "```plaintext\n",
    "2, nums = [2,2,_,_]\n",
    "```\n",
    "**Explanation:** Your function should return `k = 2`, with the first two elements of `nums` being `[2,2]`. The remaining elements can be ignored.\n",
    "\n",
    "### Example 2:\n",
    "**Input:**\n",
    "```plaintext\n",
    "nums = [0,1,2,2,3,0,4,2], val = 2\n",
    "```\n",
    "**Output:**\n",
    "```plaintext\n",
    "5, nums = [0,1,4,0,3,_,_,_]\n",
    "```\n",
    "**Explanation:** Your function should return `k = 5`, with the first five elements of `nums` being `[0,1,4,0,3]`. The remaining elements can be ignored.\n",
    "\n",
    "## Constraints\n",
    "- `0 <= nums.length <= 100`\n",
    "- `0 <= nums[i] <= 50`\n",
    "- `0 <= val <= 100`\n",
    "\n"
   ]
  },
  {
   "cell_type": "code",
   "execution_count": 1,
   "metadata": {},
   "outputs": [
    {
     "name": "stdout",
     "output_type": "stream",
     "text": [
      "2\n"
     ]
    }
   ],
   "source": [
    "\n",
    "def removeElement(nums, val):\n",
    "    i=0\n",
    "    while i<len(nums):\n",
    "        if nums[i]==val:\n",
    "            nums.pop(i)\n",
    "        else:\n",
    "            i+=1\n",
    "    return len(nums)\n",
    "\n",
    "print(removeElement([3,2,2,3],3)) #2\n"
   ]
  },
  {
   "cell_type": "markdown",
   "metadata": {},
   "source": [
    "# Search Insert Position\n",
    "\n",
    "## Problem Statement\n",
    "Given a sorted array of **distinct** integers and a **target** value, return the **index** if the target is found. If not, return the index where it would be if it were inserted in order.\n",
    "\n",
    "You must write an algorithm with **O(log n)** runtime complexity.\n",
    "\n",
    "---\n",
    "\n",
    "## Examples\n",
    "\n",
    "### Example 1:\n",
    "**Input:**\n",
    "```plaintext\n",
    "nums = [1,3,5,6], target = 5\n",
    "```\n",
    "**Output:**\n",
    "```plaintext\n",
    "2\n",
    "```\n",
    "\n",
    "### Example 2:\n",
    "**Input:**\n",
    "```plaintext\n",
    "nums = [1,3,5,6], target = 2\n",
    "```\n",
    "**Output:**\n",
    "```plaintext\n",
    "1\n",
    "```\n",
    "\n",
    "### Example 3:\n",
    "**Input:**\n",
    "```plaintext\n",
    "nums = [1,3,5,6], target = 7\n",
    "```\n",
    "**Output:**\n",
    "```plaintext\n",
    "4\n",
    "```\n",
    "\n",
    "### Example 4:\n",
    "**Input:**\n",
    "```plaintext\n",
    "nums = [1,3,5,6], target = 0\n",
    "```\n",
    "**Output:**\n",
    "```plaintext\n",
    "0\n",
    "```\n",
    "\n",
    "### Example 5:\n",
    "**Input:**\n",
    "```plaintext\n",
    "nums = [1], target = 0\n",
    "```\n",
    "**Output:**\n",
    "```plaintext\n",
    "0\n",
    "```\n",
    "\n",
    "---\n",
    "\n",
    "## Constraints\n",
    "- `1 <= nums.length <= 10^4`\n",
    "- `-10^4 <= nums[i] <= 10^4`\n",
    "- `nums` contains **distinct** values sorted in **ascending order**.\n",
    "- `-10^4 <= target <= 10^4`"
   ]
  },
  {
   "cell_type": "code",
   "execution_count": 14,
   "metadata": {},
   "outputs": [
    {
     "name": "stdout",
     "output_type": "stream",
     "text": [
      "2\n",
      "1\n",
      "4\n"
     ]
    }
   ],
   "source": [
    "def searchInsert(nums, target):\n",
    "    temp=0\n",
    "    for i in range(len(nums)-1, -1,-1):\n",
    "        if nums[i]==target:\n",
    "            return i            \n",
    "        elif nums[i]<target:\n",
    "            return i+1              \n",
    "    return temp\n",
    "\n",
    "print(searchInsert([1,3,5,6], 5)) #2\n",
    "print(searchInsert([1,3,5,6], 2)) #1\n",
    "print(searchInsert([1,3,5,6], 7)) #4"
   ]
  },
  {
   "cell_type": "code",
   "execution_count": null,
   "metadata": {},
   "outputs": [
    {
     "name": "stdout",
     "output_type": "stream",
     "text": [
      "600\n"
     ]
    }
   ],
   "source": [
    "num=0\n",
    "digits=[1,2,3]\n",
    "for i in digits:\n",
    "    num=num+(10**(len(digits)-1-i))*i\n",
    "\n",
    "print(num)\n",
    "\n"
   ]
  },
  {
   "cell_type": "code",
   "execution_count": null,
   "metadata": {},
   "outputs": [],
   "source": []
  }
 ],
 "metadata": {
  "kernelspec": {
   "display_name": "Python 3",
   "language": "python",
   "name": "python3"
  },
  "language_info": {
   "codemirror_mode": {
    "name": "ipython",
    "version": 3
   },
   "file_extension": ".py",
   "mimetype": "text/x-python",
   "name": "python",
   "nbconvert_exporter": "python",
   "pygments_lexer": "ipython3",
   "version": "3.11.9"
  }
 },
 "nbformat": 4,
 "nbformat_minor": 2
}
