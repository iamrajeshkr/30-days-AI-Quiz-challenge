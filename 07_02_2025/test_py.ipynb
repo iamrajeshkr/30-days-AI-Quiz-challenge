{
 "cells": [
  {
   "cell_type": "markdown",
   "metadata": {},
   "source": [
    "#\n",
    "31. Next Permutation"
   ]
  },
  {
   "cell_type": "code",
   "execution_count": 8,
   "metadata": {},
   "outputs": [
    {
     "name": "stdout",
     "output_type": "stream",
     "text": [
      "[1, 3, 2, 4]\n",
      "[1, 3, 2, 4]\n",
      "next permutation of [2,3,1] by 1st function is  [1, 2, 3]\n",
      "next permutation of [2,3,1] by 2nd function is  [3, 1, 2]\n"
     ]
    }
   ],
   "source": [
    "def nextPermutation1(nums):\n",
    "    temp=-1\n",
    "    for i in range(len(nums)-1, 0, -1):\n",
    "        if nums[i]>nums[i-1]:\n",
    "            temp=i-1\n",
    "            break\n",
    "    if temp!=-1:\n",
    "        nums[temp], nums[len(nums)-1]=nums[len(nums)-1], nums[temp]\n",
    "    i,j=temp+1, len(nums)-1\n",
    "    while i<j:\n",
    "        nums[i], nums[j]=nums[j], nums[i]\n",
    "        i+=1\n",
    "        j-=1\n",
    "    return nums\n",
    "\n",
    "print(nextPermutation1([1,2,4,3]))\n",
    "\n",
    "#But above code is missing a edcase that is what is the the last number in the list is not greater then temp then \n",
    "# #the whole list will go previos or the whole number become small then current so it is importent to check is the \n",
    "# number we are swapping must be greater then the temp\n",
    "\n",
    "def nextPermutation2(nums):\n",
    "    temp=-1\n",
    "    for i in range(len(nums)-1, 0, -1):\n",
    "        if nums[i]>nums[i-1]:\n",
    "            temp=i-1\n",
    "            break\n",
    "    if temp!=-1:\n",
    "        for i in range(len(nums)-1, temp, -1):\n",
    "            if nums[i]>nums[temp]:\n",
    "                nums[i], nums[temp]=nums[temp], nums[i]\n",
    "                break\n",
    "    i,j=temp+1, len(nums)-1\n",
    "    while i<j:\n",
    "        nums[i], nums[j]=nums[j], nums[i]\n",
    "        i+=1\n",
    "        j-=1\n",
    "    return nums\n",
    "\n",
    "print(nextPermutation2([1,2,4,3]))\n",
    "\n",
    "\n",
    "print('next permutation of [2,3,1] by 1st function is ', nextPermutation1([2,3,1]))\n",
    "print('next permutation of [2,3,1] by 2nd function is ', nextPermutation2([2,3,1]))"
   ]
  },
  {
   "cell_type": "markdown",
   "metadata": {},
   "source": []
  }
 ],
 "metadata": {
  "kernelspec": {
   "display_name": "Python 3",
   "language": "python",
   "name": "python3"
  },
  "language_info": {
   "codemirror_mode": {
    "name": "ipython",
    "version": 3
   },
   "file_extension": ".py",
   "mimetype": "text/x-python",
   "name": "python",
   "nbconvert_exporter": "python",
   "pygments_lexer": "ipython3",
   "version": "3.11.9"
  }
 },
 "nbformat": 4,
 "nbformat_minor": 2
}
