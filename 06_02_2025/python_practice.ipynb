{
 "cells": [
  {
   "cell_type": "markdown",
   "metadata": {},
   "source": [
    "#\n",
    "Set Matrix Zeroes:Given an m x n integer matrix matrix, if an element is 0, set its entire row and column to 0's"
   ]
  },
  {
   "cell_type": "markdown",
   "metadata": {},
   "source": []
  },
  {
   "cell_type": "code",
   "execution_count": 2,
   "metadata": {},
   "outputs": [
    {
     "name": "stdout",
     "output_type": "stream",
     "text": [
      "[[0, 0, 0, 0], [0, 4, 5, 0], [0, 3, 1, 0]]\n"
     ]
    }
   ],
   "source": [
    "def setZeroes(matrix):\n",
    "    k=[]\n",
    "    for i in range(len(matrix)):\n",
    "        for j in range(len(matrix[0])):\n",
    "            if matrix[i][j]==0:\n",
    "                k.append((i,j))\n",
    "    for i, j in k:\n",
    "        matrix[i]=[0]*len(matrix[i])\n",
    "        for i in range(len(matrix)):\n",
    "            matrix[i][j]=0\n",
    "    return matrix\n",
    "\n",
    "matrix = [[0,1,2,0],[3,4,5,2],[1,3,1,5]]\n",
    "print(setZeroes(matrix))\n"
   ]
  },
  {
   "cell_type": "markdown",
   "metadata": {},
   "source": [
    "##\n",
    "118. Pascal's Triangle"
   ]
  },
  {
   "cell_type": "code",
   "execution_count": 4,
   "metadata": {},
   "outputs": [
    {
     "name": "stdout",
     "output_type": "stream",
     "text": [
      "[[1], [1, 1], [1, 2, 1]]\n"
     ]
    }
   ],
   "source": [
    "def getRow(numrow):\n",
    "    triangle=[]\n",
    "    for i in range(numrow):\n",
    "        current_row=[]\n",
    "        ans=1\n",
    "        for j in range(i+1):\n",
    "            if j==0:\n",
    "                current_row.append(1)\n",
    "            else:\n",
    "                ans=ans*(i-j+1)//j\n",
    "                current_row.append(ans)\n",
    "        triangle.append(current_row)\n",
    "    return triangle\n",
    "\n",
    "print(getRow(3))"
   ]
  },
  {
   "cell_type": "code",
   "execution_count": null,
   "metadata": {},
   "outputs": [],
   "source": []
  }
 ],
 "metadata": {
  "kernelspec": {
   "display_name": "Python 3",
   "language": "python",
   "name": "python3"
  },
  "language_info": {
   "codemirror_mode": {
    "name": "ipython",
    "version": 3
   },
   "file_extension": ".py",
   "mimetype": "text/x-python",
   "name": "python",
   "nbconvert_exporter": "python",
   "pygments_lexer": "ipython3",
   "version": "3.11.9"
  }
 },
 "nbformat": 4,
 "nbformat_minor": 2
}
